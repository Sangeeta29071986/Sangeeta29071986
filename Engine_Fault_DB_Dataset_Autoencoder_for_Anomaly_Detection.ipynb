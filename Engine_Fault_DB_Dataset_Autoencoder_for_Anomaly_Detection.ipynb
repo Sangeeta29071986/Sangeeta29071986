{
  "cells": [
    {
      "cell_type": "markdown",
      "metadata": {
        "id": "view-in-github",
        "colab_type": "text"
      },
      "source": [
        "<a href=\"https://colab.research.google.com/github/Sangeeta29071986/Sangeeta29071986/blob/main/Engine_Fault_DB_Dataset_Autoencoder_for_Anomaly_Detection.ipynb\" target=\"_parent\"><img src=\"https://colab.research.google.com/assets/colab-badge.svg\" alt=\"Open In Colab\"/></a>"
      ]
    },
    {
      "cell_type": "markdown",
      "metadata": {
        "id": "eqf4vE_JWGO8"
      },
      "source": [
        "## 1. Install Dependencies and Setup\n"
      ]
    },
    {
      "cell_type": "code",
      "execution_count": 1,
      "metadata": {
        "id": "iKajw_NTWFVq"
      },
      "outputs": [],
      "source": [
        "#import necessary libraries\n",
        "import matplotlib\n",
        "import numpy as np\n",
        "import matplotlib.pyplot as plt\n",
        "import os\n",
        "import pandas as pd\n",
        "import tensorflow as tf\n",
        "from tensorflow import keras\n",
        "from tensorflow.keras import layers"
      ]
    },
    {
      "cell_type": "markdown",
      "source": [
        "#### 1.1 Import Dataset:"
      ],
      "metadata": {
        "id": "O83E2UfN-xAb"
      }
    },
    {
      "cell_type": "code",
      "execution_count": 3,
      "metadata": {
        "colab": {
          "base_uri": "https://localhost:8080/",
          "height": 224
        },
        "id": "zO5vEVa_qkCl",
        "outputId": "d0b94f5f-73bb-4069-c82f-0f9735eabc55"
      },
      "outputs": [
        {
          "output_type": "execute_result",
          "data": {
            "text/plain": [
              "   Fault    MAP    TPS  Force  Power       RPM  Consumption L/H  \\\n",
              "0      0  3.549  1.889  7.428  5.227  1192.769            3.057   \n",
              "1      0  3.559  1.899  7.646  5.327  1145.191            2.914   \n",
              "2      0  3.539  1.899  7.578  5.100  1208.505            2.976   \n",
              "3      0  3.519  1.889  7.371  5.255  1164.127            2.908   \n",
              "4      0  3.549  1.879  7.405  5.177  1172.032            2.898   \n",
              "\n",
              "   Consumption L/100KM   Speed     CO       HC     CO2     O2  Lambda     AFR  \n",
              "0               11.720  24.901  0.460  196.089  14.356  1.080   1.047  15.385  \n",
              "1               11.276  25.030  0.478  196.283  14.492  1.107   1.083  15.926  \n",
              "2               11.926  24.213  0.464  200.367  14.443  1.099   1.072  15.754  \n",
              "3               11.786  24.407  0.471  195.345  13.853  1.076   1.006  14.787  \n",
              "4               12.169  24.875  0.468  194.979  13.752  1.060   0.984  14.470  "
            ],
            "text/html": [
              "\n",
              "  <div id=\"df-fa723877-7aee-4ec4-bb71-ae2ab6e8e3cc\" class=\"colab-df-container\">\n",
              "    <div>\n",
              "<style scoped>\n",
              "    .dataframe tbody tr th:only-of-type {\n",
              "        vertical-align: middle;\n",
              "    }\n",
              "\n",
              "    .dataframe tbody tr th {\n",
              "        vertical-align: top;\n",
              "    }\n",
              "\n",
              "    .dataframe thead th {\n",
              "        text-align: right;\n",
              "    }\n",
              "</style>\n",
              "<table border=\"1\" class=\"dataframe\">\n",
              "  <thead>\n",
              "    <tr style=\"text-align: right;\">\n",
              "      <th></th>\n",
              "      <th>Fault</th>\n",
              "      <th>MAP</th>\n",
              "      <th>TPS</th>\n",
              "      <th>Force</th>\n",
              "      <th>Power</th>\n",
              "      <th>RPM</th>\n",
              "      <th>Consumption L/H</th>\n",
              "      <th>Consumption L/100KM</th>\n",
              "      <th>Speed</th>\n",
              "      <th>CO</th>\n",
              "      <th>HC</th>\n",
              "      <th>CO2</th>\n",
              "      <th>O2</th>\n",
              "      <th>Lambda</th>\n",
              "      <th>AFR</th>\n",
              "    </tr>\n",
              "  </thead>\n",
              "  <tbody>\n",
              "    <tr>\n",
              "      <th>0</th>\n",
              "      <td>0</td>\n",
              "      <td>3.549</td>\n",
              "      <td>1.889</td>\n",
              "      <td>7.428</td>\n",
              "      <td>5.227</td>\n",
              "      <td>1192.769</td>\n",
              "      <td>3.057</td>\n",
              "      <td>11.720</td>\n",
              "      <td>24.901</td>\n",
              "      <td>0.460</td>\n",
              "      <td>196.089</td>\n",
              "      <td>14.356</td>\n",
              "      <td>1.080</td>\n",
              "      <td>1.047</td>\n",
              "      <td>15.385</td>\n",
              "    </tr>\n",
              "    <tr>\n",
              "      <th>1</th>\n",
              "      <td>0</td>\n",
              "      <td>3.559</td>\n",
              "      <td>1.899</td>\n",
              "      <td>7.646</td>\n",
              "      <td>5.327</td>\n",
              "      <td>1145.191</td>\n",
              "      <td>2.914</td>\n",
              "      <td>11.276</td>\n",
              "      <td>25.030</td>\n",
              "      <td>0.478</td>\n",
              "      <td>196.283</td>\n",
              "      <td>14.492</td>\n",
              "      <td>1.107</td>\n",
              "      <td>1.083</td>\n",
              "      <td>15.926</td>\n",
              "    </tr>\n",
              "    <tr>\n",
              "      <th>2</th>\n",
              "      <td>0</td>\n",
              "      <td>3.539</td>\n",
              "      <td>1.899</td>\n",
              "      <td>7.578</td>\n",
              "      <td>5.100</td>\n",
              "      <td>1208.505</td>\n",
              "      <td>2.976</td>\n",
              "      <td>11.926</td>\n",
              "      <td>24.213</td>\n",
              "      <td>0.464</td>\n",
              "      <td>200.367</td>\n",
              "      <td>14.443</td>\n",
              "      <td>1.099</td>\n",
              "      <td>1.072</td>\n",
              "      <td>15.754</td>\n",
              "    </tr>\n",
              "    <tr>\n",
              "      <th>3</th>\n",
              "      <td>0</td>\n",
              "      <td>3.519</td>\n",
              "      <td>1.889</td>\n",
              "      <td>7.371</td>\n",
              "      <td>5.255</td>\n",
              "      <td>1164.127</td>\n",
              "      <td>2.908</td>\n",
              "      <td>11.786</td>\n",
              "      <td>24.407</td>\n",
              "      <td>0.471</td>\n",
              "      <td>195.345</td>\n",
              "      <td>13.853</td>\n",
              "      <td>1.076</td>\n",
              "      <td>1.006</td>\n",
              "      <td>14.787</td>\n",
              "    </tr>\n",
              "    <tr>\n",
              "      <th>4</th>\n",
              "      <td>0</td>\n",
              "      <td>3.549</td>\n",
              "      <td>1.879</td>\n",
              "      <td>7.405</td>\n",
              "      <td>5.177</td>\n",
              "      <td>1172.032</td>\n",
              "      <td>2.898</td>\n",
              "      <td>12.169</td>\n",
              "      <td>24.875</td>\n",
              "      <td>0.468</td>\n",
              "      <td>194.979</td>\n",
              "      <td>13.752</td>\n",
              "      <td>1.060</td>\n",
              "      <td>0.984</td>\n",
              "      <td>14.470</td>\n",
              "    </tr>\n",
              "  </tbody>\n",
              "</table>\n",
              "</div>\n",
              "    <div class=\"colab-df-buttons\">\n",
              "\n",
              "  <div class=\"colab-df-container\">\n",
              "    <button class=\"colab-df-convert\" onclick=\"convertToInteractive('df-fa723877-7aee-4ec4-bb71-ae2ab6e8e3cc')\"\n",
              "            title=\"Convert this dataframe to an interactive table.\"\n",
              "            style=\"display:none;\">\n",
              "\n",
              "  <svg xmlns=\"http://www.w3.org/2000/svg\" height=\"24px\" viewBox=\"0 -960 960 960\">\n",
              "    <path d=\"M120-120v-720h720v720H120Zm60-500h600v-160H180v160Zm220 220h160v-160H400v160Zm0 220h160v-160H400v160ZM180-400h160v-160H180v160Zm440 0h160v-160H620v160ZM180-180h160v-160H180v160Zm440 0h160v-160H620v160Z\"/>\n",
              "  </svg>\n",
              "    </button>\n",
              "\n",
              "  <style>\n",
              "    .colab-df-container {\n",
              "      display:flex;\n",
              "      gap: 12px;\n",
              "    }\n",
              "\n",
              "    .colab-df-convert {\n",
              "      background-color: #E8F0FE;\n",
              "      border: none;\n",
              "      border-radius: 50%;\n",
              "      cursor: pointer;\n",
              "      display: none;\n",
              "      fill: #1967D2;\n",
              "      height: 32px;\n",
              "      padding: 0 0 0 0;\n",
              "      width: 32px;\n",
              "    }\n",
              "\n",
              "    .colab-df-convert:hover {\n",
              "      background-color: #E2EBFA;\n",
              "      box-shadow: 0px 1px 2px rgba(60, 64, 67, 0.3), 0px 1px 3px 1px rgba(60, 64, 67, 0.15);\n",
              "      fill: #174EA6;\n",
              "    }\n",
              "\n",
              "    .colab-df-buttons div {\n",
              "      margin-bottom: 4px;\n",
              "    }\n",
              "\n",
              "    [theme=dark] .colab-df-convert {\n",
              "      background-color: #3B4455;\n",
              "      fill: #D2E3FC;\n",
              "    }\n",
              "\n",
              "    [theme=dark] .colab-df-convert:hover {\n",
              "      background-color: #434B5C;\n",
              "      box-shadow: 0px 1px 3px 1px rgba(0, 0, 0, 0.15);\n",
              "      filter: drop-shadow(0px 1px 2px rgba(0, 0, 0, 0.3));\n",
              "      fill: #FFFFFF;\n",
              "    }\n",
              "  </style>\n",
              "\n",
              "    <script>\n",
              "      const buttonEl =\n",
              "        document.querySelector('#df-fa723877-7aee-4ec4-bb71-ae2ab6e8e3cc button.colab-df-convert');\n",
              "      buttonEl.style.display =\n",
              "        google.colab.kernel.accessAllowed ? 'block' : 'none';\n",
              "\n",
              "      async function convertToInteractive(key) {\n",
              "        const element = document.querySelector('#df-fa723877-7aee-4ec4-bb71-ae2ab6e8e3cc');\n",
              "        const dataTable =\n",
              "          await google.colab.kernel.invokeFunction('convertToInteractive',\n",
              "                                                    [key], {});\n",
              "        if (!dataTable) return;\n",
              "\n",
              "        const docLinkHtml = 'Like what you see? Visit the ' +\n",
              "          '<a target=\"_blank\" href=https://colab.research.google.com/notebooks/data_table.ipynb>data table notebook</a>'\n",
              "          + ' to learn more about interactive tables.';\n",
              "        element.innerHTML = '';\n",
              "        dataTable['output_type'] = 'display_data';\n",
              "        await google.colab.output.renderOutput(dataTable, element);\n",
              "        const docLink = document.createElement('div');\n",
              "        docLink.innerHTML = docLinkHtml;\n",
              "        element.appendChild(docLink);\n",
              "      }\n",
              "    </script>\n",
              "  </div>\n",
              "\n",
              "\n",
              "<div id=\"df-4b9d9ad5-4f41-4fe0-bae0-2a265ec13643\">\n",
              "  <button class=\"colab-df-quickchart\" onclick=\"quickchart('df-4b9d9ad5-4f41-4fe0-bae0-2a265ec13643')\"\n",
              "            title=\"Suggest charts\"\n",
              "            style=\"display:none;\">\n",
              "\n",
              "<svg xmlns=\"http://www.w3.org/2000/svg\" height=\"24px\"viewBox=\"0 0 24 24\"\n",
              "     width=\"24px\">\n",
              "    <g>\n",
              "        <path d=\"M19 3H5c-1.1 0-2 .9-2 2v14c0 1.1.9 2 2 2h14c1.1 0 2-.9 2-2V5c0-1.1-.9-2-2-2zM9 17H7v-7h2v7zm4 0h-2V7h2v10zm4 0h-2v-4h2v4z\"/>\n",
              "    </g>\n",
              "</svg>\n",
              "  </button>\n",
              "\n",
              "<style>\n",
              "  .colab-df-quickchart {\n",
              "      --bg-color: #E8F0FE;\n",
              "      --fill-color: #1967D2;\n",
              "      --hover-bg-color: #E2EBFA;\n",
              "      --hover-fill-color: #174EA6;\n",
              "      --disabled-fill-color: #AAA;\n",
              "      --disabled-bg-color: #DDD;\n",
              "  }\n",
              "\n",
              "  [theme=dark] .colab-df-quickchart {\n",
              "      --bg-color: #3B4455;\n",
              "      --fill-color: #D2E3FC;\n",
              "      --hover-bg-color: #434B5C;\n",
              "      --hover-fill-color: #FFFFFF;\n",
              "      --disabled-bg-color: #3B4455;\n",
              "      --disabled-fill-color: #666;\n",
              "  }\n",
              "\n",
              "  .colab-df-quickchart {\n",
              "    background-color: var(--bg-color);\n",
              "    border: none;\n",
              "    border-radius: 50%;\n",
              "    cursor: pointer;\n",
              "    display: none;\n",
              "    fill: var(--fill-color);\n",
              "    height: 32px;\n",
              "    padding: 0;\n",
              "    width: 32px;\n",
              "  }\n",
              "\n",
              "  .colab-df-quickchart:hover {\n",
              "    background-color: var(--hover-bg-color);\n",
              "    box-shadow: 0 1px 2px rgba(60, 64, 67, 0.3), 0 1px 3px 1px rgba(60, 64, 67, 0.15);\n",
              "    fill: var(--button-hover-fill-color);\n",
              "  }\n",
              "\n",
              "  .colab-df-quickchart-complete:disabled,\n",
              "  .colab-df-quickchart-complete:disabled:hover {\n",
              "    background-color: var(--disabled-bg-color);\n",
              "    fill: var(--disabled-fill-color);\n",
              "    box-shadow: none;\n",
              "  }\n",
              "\n",
              "  .colab-df-spinner {\n",
              "    border: 2px solid var(--fill-color);\n",
              "    border-color: transparent;\n",
              "    border-bottom-color: var(--fill-color);\n",
              "    animation:\n",
              "      spin 1s steps(1) infinite;\n",
              "  }\n",
              "\n",
              "  @keyframes spin {\n",
              "    0% {\n",
              "      border-color: transparent;\n",
              "      border-bottom-color: var(--fill-color);\n",
              "      border-left-color: var(--fill-color);\n",
              "    }\n",
              "    20% {\n",
              "      border-color: transparent;\n",
              "      border-left-color: var(--fill-color);\n",
              "      border-top-color: var(--fill-color);\n",
              "    }\n",
              "    30% {\n",
              "      border-color: transparent;\n",
              "      border-left-color: var(--fill-color);\n",
              "      border-top-color: var(--fill-color);\n",
              "      border-right-color: var(--fill-color);\n",
              "    }\n",
              "    40% {\n",
              "      border-color: transparent;\n",
              "      border-right-color: var(--fill-color);\n",
              "      border-top-color: var(--fill-color);\n",
              "    }\n",
              "    60% {\n",
              "      border-color: transparent;\n",
              "      border-right-color: var(--fill-color);\n",
              "    }\n",
              "    80% {\n",
              "      border-color: transparent;\n",
              "      border-right-color: var(--fill-color);\n",
              "      border-bottom-color: var(--fill-color);\n",
              "    }\n",
              "    90% {\n",
              "      border-color: transparent;\n",
              "      border-bottom-color: var(--fill-color);\n",
              "    }\n",
              "  }\n",
              "</style>\n",
              "\n",
              "  <script>\n",
              "    async function quickchart(key) {\n",
              "      const quickchartButtonEl =\n",
              "        document.querySelector('#' + key + ' button');\n",
              "      quickchartButtonEl.disabled = true;  // To prevent multiple clicks.\n",
              "      quickchartButtonEl.classList.add('colab-df-spinner');\n",
              "      try {\n",
              "        const charts = await google.colab.kernel.invokeFunction(\n",
              "            'suggestCharts', [key], {});\n",
              "      } catch (error) {\n",
              "        console.error('Error during call to suggestCharts:', error);\n",
              "      }\n",
              "      quickchartButtonEl.classList.remove('colab-df-spinner');\n",
              "      quickchartButtonEl.classList.add('colab-df-quickchart-complete');\n",
              "    }\n",
              "    (() => {\n",
              "      let quickchartButtonEl =\n",
              "        document.querySelector('#df-4b9d9ad5-4f41-4fe0-bae0-2a265ec13643 button');\n",
              "      quickchartButtonEl.style.display =\n",
              "        google.colab.kernel.accessAllowed ? 'block' : 'none';\n",
              "    })();\n",
              "  </script>\n",
              "</div>\n",
              "\n",
              "    </div>\n",
              "  </div>\n"
            ],
            "application/vnd.google.colaboratory.intrinsic+json": {
              "type": "dataframe",
              "variable_name": "dataset",
              "summary": "{\n  \"name\": \"dataset\",\n  \"rows\": 55999,\n  \"fields\": [\n    {\n      \"column\": \"Fault\",\n      \"properties\": {\n        \"dtype\": \"number\",\n        \"std\": 1,\n        \"min\": 0,\n        \"max\": 3,\n        \"num_unique_values\": 4,\n        \"samples\": [\n          1,\n          3,\n          0\n        ],\n        \"semantic_type\": \"\",\n        \"description\": \"\"\n      }\n    },\n    {\n      \"column\": \"MAP\",\n      \"properties\": {\n        \"dtype\": \"number\",\n        \"std\": 0.837786009095127,\n        \"min\": 0.453,\n        \"max\": 4.547,\n        \"num_unique_values\": 259,\n        \"samples\": [\n          3.254,\n          1.237,\n          3.437\n        ],\n        \"semantic_type\": \"\",\n        \"description\": \"\"\n      }\n    },\n    {\n      \"column\": \"TPS\",\n      \"properties\": {\n        \"dtype\": \"number\",\n        \"std\": 0.906950059053209,\n        \"min\": 0.382,\n        \"max\": 4.048,\n        \"num_unique_values\": 159,\n        \"samples\": [\n          0.586,\n          1.319,\n          1.604\n        ],\n        \"semantic_type\": \"\",\n        \"description\": \"\"\n      }\n    },\n    {\n      \"column\": \"Force\",\n      \"properties\": {\n        \"dtype\": \"number\",\n        \"std\": 378.7749166646109,\n        \"min\": 2.58,\n        \"max\": 1537.118,\n        \"num_unique_values\": 40476,\n        \"samples\": [\n          64.916,\n          108.392,\n          81.191\n        ],\n        \"semantic_type\": \"\",\n        \"description\": \"\"\n      }\n    },\n    {\n      \"column\": \"Power\",\n      \"properties\": {\n        \"dtype\": \"number\",\n        \"std\": 7.68414679791745,\n        \"min\": 0.465,\n        \"max\": 33.946,\n        \"num_unique_values\": 10119,\n        \"samples\": [\n          30.045,\n          21.092,\n          20.494\n        ],\n        \"semantic_type\": \"\",\n        \"description\": \"\"\n      }\n    },\n    {\n      \"column\": \"RPM\",\n      \"properties\": {\n        \"dtype\": \"number\",\n        \"std\": 932.0086795135969,\n        \"min\": 1066.452,\n        \"max\": 5013.402,\n        \"num_unique_values\": 54819,\n        \"samples\": [\n          3269.255,\n          3737.251,\n          2784.508\n        ],\n        \"semantic_type\": \"\",\n        \"description\": \"\"\n      }\n    },\n    {\n      \"column\": \"Consumption L/H\",\n      \"properties\": {\n        \"dtype\": \"number\",\n        \"std\": 2.221497077261687,\n        \"min\": 1.917,\n        \"max\": 14.81,\n        \"num_unique_values\": 6808,\n        \"samples\": [\n          14.023,\n          3.762,\n          4.437\n        ],\n        \"semantic_type\": \"\",\n        \"description\": \"\"\n      }\n    },\n    {\n      \"column\": \"Consumption L/100KM\",\n      \"properties\": {\n        \"dtype\": \"number\",\n        \"std\": 3.154109922474531,\n        \"min\": 5.187,\n        \"max\": 20.043,\n        \"num_unique_values\": 9208,\n        \"samples\": [\n          11.241,\n          12.347,\n          13.614\n        ],\n        \"semantic_type\": \"\",\n        \"description\": \"\"\n      }\n    },\n    {\n      \"column\": \"Speed\",\n      \"properties\": {\n        \"dtype\": \"number\",\n        \"std\": 20.140345023583386,\n        \"min\": 22.757,\n        \"max\": 107.539,\n        \"num_unique_values\": 30113,\n        \"samples\": [\n          98.479,\n          30.966,\n          58.756\n        ],\n        \"semantic_type\": \"\",\n        \"description\": \"\"\n      }\n    },\n    {\n      \"column\": \"CO\",\n      \"properties\": {\n        \"dtype\": \"number\",\n        \"std\": 1.9887891856413178,\n        \"min\": 0.421,\n        \"max\": 10.132,\n        \"num_unique_values\": 5133,\n        \"samples\": [\n          1.437,\n          2.017,\n          7.216\n        ],\n        \"semantic_type\": \"\",\n        \"description\": \"\"\n      }\n    },\n    {\n      \"column\": \"HC\",\n      \"properties\": {\n        \"dtype\": \"number\",\n        \"std\": 111.04701518016404,\n        \"min\": 1.787,\n        \"max\": 975.657,\n        \"num_unique_values\": 41136,\n        \"samples\": [\n          145.701,\n          193.369,\n          185.935\n        ],\n        \"semantic_type\": \"\",\n        \"description\": \"\"\n      }\n    },\n    {\n      \"column\": \"CO2\",\n      \"properties\": {\n        \"dtype\": \"number\",\n        \"std\": 1.0465668058374067,\n        \"min\": 8.649,\n        \"max\": 15.129,\n        \"num_unique_values\": 5242,\n        \"samples\": [\n          12.947,\n          10.141,\n          14.308\n        ],\n        \"semantic_type\": \"\",\n        \"description\": \"\"\n      }\n    },\n    {\n      \"column\": \"O2\",\n      \"properties\": {\n        \"dtype\": \"number\",\n        \"std\": 0.22371293028958586,\n        \"min\": 0.203,\n        \"max\": 1.151,\n        \"num_unique_values\": 889,\n        \"samples\": [\n          0.783,\n          0.479,\n          1.084\n        ],\n        \"semantic_type\": \"\",\n        \"description\": \"\"\n      }\n    },\n    {\n      \"column\": \"Lambda\",\n      \"properties\": {\n        \"dtype\": \"number\",\n        \"std\": 0.06597266436132339,\n        \"min\": 0.695,\n        \"max\": 1.149,\n        \"num_unique_values\": 416,\n        \"samples\": [\n          0.965,\n          0.857,\n          1.111\n        ],\n        \"semantic_type\": \"\",\n        \"description\": \"\"\n      }\n    },\n    {\n      \"column\": \"AFR\",\n      \"properties\": {\n        \"dtype\": \"number\",\n        \"std\": 0.969802412060248,\n        \"min\": 10.21,\n        \"max\": 16.893,\n        \"num_unique_values\": 5054,\n        \"samples\": [\n          15.031,\n          13.272,\n          14.995\n        ],\n        \"semantic_type\": \"\",\n        \"description\": \"\"\n      }\n    }\n  ]\n}"
            }
          },
          "metadata": {},
          "execution_count": 3
        }
      ],
      "source": [
        "dataset=pd.read_csv(\"EngineFaultDB_Final.csv\")\n",
        "dataset.head()"
      ]
    },
    {
      "cell_type": "markdown",
      "source": [
        "#### 1.2 Data Visualisation and Preprocessing\n",
        "\n",
        "\n",
        "We get to know our dataset through looking at the different data categories, as well as the statistical description. We also take a look at the amount of null data to possibly fill it in if required.\n"
      ],
      "metadata": {
        "id": "h0LCM7VM94N4"
      }
    },
    {
      "cell_type": "code",
      "execution_count": 4,
      "metadata": {
        "colab": {
          "base_uri": "https://localhost:8080/"
        },
        "id": "j9UkA5la-AdF",
        "outputId": "752e57fd-9c37-4914-c4a3-e2f6859e7a85"
      },
      "outputs": [
        {
          "output_type": "execute_result",
          "data": {
            "text/plain": [
              "array([0, 1, 2, 3])"
            ]
          },
          "metadata": {},
          "execution_count": 4
        }
      ],
      "source": [
        "# Check the unique values for label column \"Fault\"\n",
        "dataset[\"Fault\"].unique()"
      ]
    },
    {
      "cell_type": "code",
      "source": [
        "count= dataset['Fault'].value_counts() #get the frequency of different labels\n",
        "plt.pie(x=count.values, labels=['healthy','fault 2', 'fault 3','fault 1'], autopct='%1.1f%%')\n",
        "plt.show()"
      ],
      "metadata": {
        "colab": {
          "base_uri": "https://localhost:8080/",
          "height": 406
        },
        "id": "8G6u3Bg0B45x",
        "outputId": "2b371956-ab43-4463-fb84-a4e84c5a1826"
      },
      "execution_count": null,
      "outputs": [
        {
          "output_type": "display_data",
          "data": {
            "text/plain": [
              "<Figure size 640x480 with 1 Axes>"
            ],
            "image/png": "[encoded data removed]"
          },
          "metadata": {}
        }
      ]
    },
    {
      "cell_type": "code",
      "source": [
        "count"
      ],
      "metadata": {
        "colab": {
          "base_uri": "https://localhost:8080/"
        },
        "id": "qxzFcxBhq_O9",
        "outputId": "4962ffd4-139b-41dc-a6d4-aa15553ea481"
      },
      "execution_count": null,
      "outputs": [
        {
          "output_type": "execute_result",
          "data": {
            "text/plain": [
              "Fault\n",
              "0    16000\n",
              "2    15000\n",
              "3    14001\n",
              "1    10998\n",
              "Name: count, dtype: int64"
            ]
          },
          "metadata": {},
          "execution_count": 5
        }
      ]
    },
    {
      "cell_type": "markdown",
      "metadata": {
        "id": "R39to4a5q3pe"
      },
      "source": [
        "#### Check for null values:"
      ]
    },
    {
      "cell_type": "code",
      "execution_count": null,
      "metadata": {
        "colab": {
          "base_uri": "https://localhost:8080/"
        },
        "id": "yYoKAvDfqztn",
        "outputId": "cd750428-19fd-4954-fcfe-a7d61c4e7dcd"
      },
      "outputs": [
        {
          "output_type": "execute_result",
          "data": {
            "text/plain": [
              "Fault                  0\n",
              "MAP                    0\n",
              "TPS                    0\n",
              "Force                  0\n",
              "Power                  0\n",
              "RPM                    0\n",
              "Consumption L/H        0\n",
              "Consumption L/100KM    0\n",
              "Speed                  0\n",
              "CO                     0\n",
              "HC                     0\n",
              "CO2                    0\n",
              "O2                     0\n",
              "Lambda                 0\n",
              "AFR                    0\n",
              "dtype: int64"
            ]
          },
          "metadata": {},
          "execution_count": 6
        }
      ],
      "source": [
        "dataset.isnull().sum()"
      ]
    },
    {
      "cell_type": "markdown",
      "source": [
        "#### Look at the statistical information about our Dataset:"
      ],
      "metadata": {
        "id": "GvCX4siz-brG"
      }
    },
    {
      "cell_type": "code",
      "execution_count": null,
      "metadata": {
        "colab": {
          "base_uri": "https://localhost:8080/",
          "height": 300
        },
        "id": "17MSPk_4XqyI",
        "outputId": "36ec1802-c2b9-4915-8c42-862dcdd972a0"
      },
      "outputs": [
        {
          "output_type": "execute_result",
          "data": {
            "text/plain": [
              "              Fault           MAP           TPS         Force         Power  \\\n",
              "count  55999.000000  55999.000000  55999.000000  55999.000000  55999.000000   \n",
              "mean       1.482187      1.832515      1.395269    286.691705      5.657126   \n",
              "std        1.149430      0.837786      0.906950    378.774917      7.684147   \n",
              "min        0.000000      0.453000      0.382000      2.580000      0.465000   \n",
              "25%        0.000000      1.217000      0.901000     76.848500      0.994000   \n",
              "50%        2.000000      1.543000      1.013000     92.500000      2.398000   \n",
              "75%        3.000000      1.940000      1.258000    257.989500      4.696000   \n",
              "max        3.000000      4.547000      4.048000   1537.118000     33.946000   \n",
              "\n",
              "                RPM  Consumption L/H  Consumption L/100KM         Speed  \\\n",
              "count  55999.000000     55999.000000         55999.000000  55999.000000   \n",
              "mean    2398.053774         4.497634             8.939794     51.688740   \n",
              "std      932.008680         2.221497             3.154110     20.140345   \n",
              "min     1066.452000         1.917000             5.187000     22.757000   \n",
              "25%     1830.200500         2.981000             6.573000     39.412000   \n",
              "50%     2105.588000         3.824000             8.068000     45.393000   \n",
              "75%     2761.373500         5.144500             9.924000     59.508000   \n",
              "max     5013.402000        14.810000            20.043000    107.539000   \n",
              "\n",
              "                 CO            HC           CO2            O2        Lambda  \\\n",
              "count  55999.000000  55999.000000  55999.000000  55999.000000  55999.000000   \n",
              "mean       1.932430    188.446083     13.035230      0.585910      0.963907   \n",
              "std        1.988789    111.047015      1.046567      0.223713      0.065973   \n",
              "min        0.421000      1.787000      8.649000      0.203000      0.695000   \n",
              "25%        0.641000    158.803000     12.842000      0.415000      0.937000   \n",
              "50%        1.129000    178.265000     13.242000      0.533000      0.977000   \n",
              "75%        2.455000    203.678000     13.639000      0.789000      1.008000   \n",
              "max       10.132000    975.657000     15.129000      1.151000      1.149000   \n",
              "\n",
              "                AFR  \n",
              "count  55999.000000  \n",
              "mean      14.169408  \n",
              "std        0.969802  \n",
              "min       10.210000  \n",
              "25%       13.780000  \n",
              "50%       14.365000  \n",
              "75%       14.823000  \n",
              "max       16.893000  "
            ],
            "text/html": [
              "\n",
              "  <div id=\"df-a3734a3f-0ce8-41d5-bd30-4eab972bb72f\" class=\"colab-df-container\">\n",
              "    <div>\n",
              "<style scoped>\n",
              "    .dataframe tbody tr th:only-of-type {\n",
              "        vertical-align: middle;\n",
              "    }\n",
              "\n",
              "    .dataframe tbody tr th {\n",
              "        vertical-align: top;\n",
              "    }\n",
              "\n",
              "    .dataframe thead th {\n",
              "        text-align: right;\n",
              "    }\n",
              "</style>\n",
              "<table border=\"1\" class=\"dataframe\">\n",
              "  <thead>\n",
              "    <tr style=\"text-align: right;\">\n",
              "      <th></th>\n",
              "      <th>Fault</th>\n",
              "      <th>MAP</th>\n",
              "      <th>TPS</th>\n",
              "      <th>Force</th>\n",
              "      <th>Power</th>\n",
              "      <th>RPM</th>\n",
              "      <th>Consumption L/H</th>\n",
              "      <th>Consumption L/100KM</th>\n",
              "      <th>Speed</th>\n",
              "      <th>CO</th>\n",
              "      <th>HC</th>\n",
              "      <th>CO2</th>\n",
              "      <th>O2</th>\n",
              "      <th>Lambda</th>\n",
              "      <th>AFR</th>\n",
              "    </tr>\n",
              "  </thead>\n",
              "  <tbody>\n",
              "    <tr>\n",
              "      <th>count</th>\n",
              "      <td>55999.000000</td>\n",
              "      <td>55999.000000</td>\n",
              "      <td>55999.000000</td>\n",
              "      <td>55999.000000</td>\n",
              "      <td>55999.000000</td>\n",
              "      <td>55999.000000</td>\n",
              "      <td>55999.000000</td>\n",
              "      <td>55999.000000</td>\n",
              "      <td>55999.000000</td>\n",
              "      <td>55999.000000</td>\n",
              "      <td>55999.000000</td>\n",
              "      <td>55999.000000</td>\n",
              "      <td>55999.000000</td>\n",
              "      <td>55999.000000</td>\n",
              "      <td>55999.000000</td>\n",
              "    </tr>\n",
              "    <tr>\n",
              "      <th>mean</th>\n",
              "      <td>1.482187</td>\n",
              "      <td>1.832515</td>\n",
              "      <td>1.395269</td>\n",
              "      <td>286.691705</td>\n",
              "      <td>5.657126</td>\n",
              "      <td>2398.053774</td>\n",
              "      <td>4.497634</td>\n",
              "      <td>8.939794</td>\n",
              "      <td>51.688740</td>\n",
              "      <td>1.932430</td>\n",
              "      <td>188.446083</td>\n",
              "      <td>13.035230</td>\n",
              "      <td>0.585910</td>\n",
              "      <td>0.963907</td>\n",
              "      <td>14.169408</td>\n",
              "    </tr>\n",
              "    <tr>\n",
              "      <th>std</th>\n",
              "      <td>1.149430</td>\n",
              "      <td>0.837786</td>\n",
              "      <td>0.906950</td>\n",
              "      <td>378.774917</td>\n",
              "      <td>7.684147</td>\n",
              "      <td>932.008680</td>\n",
              "      <td>2.221497</td>\n",
              "      <td>3.154110</td>\n",
              "      <td>20.140345</td>\n",
              "      <td>1.988789</td>\n",
              "      <td>111.047015</td>\n",
              "      <td>1.046567</td>\n",
              "      <td>0.223713</td>\n",
              "      <td>0.065973</td>\n",
              "      <td>0.969802</td>\n",
              "    </tr>\n",
              "    <tr>\n",
              "      <th>min</th>\n",
              "      <td>0.000000</td>\n",
              "      <td>0.453000</td>\n",
              "      <td>0.382000</td>\n",
              "      <td>2.580000</td>\n",
              "      <td>0.465000</td>\n",
              "      <td>1066.452000</td>\n",
              "      <td>1.917000</td>\n",
              "      <td>5.187000</td>\n",
              "      <td>22.757000</td>\n",
              "      <td>0.421000</td>\n",
              "      <td>1.787000</td>\n",
              "      <td>8.649000</td>\n",
              "      <td>0.203000</td>\n",
              "      <td>0.695000</td>\n",
              "      <td>10.210000</td>\n",
              "    </tr>\n",
              "    <tr>\n",
              "      <th>25%</th>\n",
              "      <td>0.000000</td>\n",
              "      <td>1.217000</td>\n",
              "      <td>0.901000</td>\n",
              "      <td>76.848500</td>\n",
              "      <td>0.994000</td>\n",
              "      <td>1830.200500</td>\n",
              "      <td>2.981000</td>\n",
              "      <td>6.573000</td>\n",
              "      <td>39.412000</td>\n",
              "      <td>0.641000</td>\n",
              "      <td>158.803000</td>\n",
              "      <td>12.842000</td>\n",
              "      <td>0.415000</td>\n",
              "      <td>0.937000</td>\n",
              "      <td>13.780000</td>\n",
              "    </tr>\n",
              "    <tr>\n",
              "      <th>50%</th>\n",
              "      <td>2.000000</td>\n",
              "      <td>1.543000</td>\n",
              "      <td>1.013000</td>\n",
              "      <td>92.500000</td>\n",
              "      <td>2.398000</td>\n",
              "      <td>2105.588000</td>\n",
              "      <td>3.824000</td>\n",
              "      <td>8.068000</td>\n",
              "      <td>45.393000</td>\n",
              "      <td>1.129000</td>\n",
              "      <td>178.265000</td>\n",
              "      <td>13.242000</td>\n",
              "      <td>0.533000</td>\n",
              "      <td>0.977000</td>\n",
              "      <td>14.365000</td>\n",
              "    </tr>\n",
              "    <tr>\n",
              "      <th>75%</th>\n",
              "      <td>3.000000</td>\n",
              "      <td>1.940000</td>\n",
              "      <td>1.258000</td>\n",
              "      <td>257.989500</td>\n",
              "      <td>4.696000</td>\n",
              "      <td>2761.373500</td>\n",
              "      <td>5.144500</td>\n",
              "      <td>9.924000</td>\n",
              "      <td>59.508000</td>\n",
              "      <td>2.455000</td>\n",
              "      <td>203.678000</td>\n",
              "      <td>13.639000</td>\n",
              "      <td>0.789000</td>\n",
              "      <td>1.008000</td>\n",
              "      <td>14.823000</td>\n",
              "    </tr>\n",
              "    <tr>\n",
              "      <th>max</th>\n",
              "      <td>3.000000</td>\n",
              "      <td>4.547000</td>\n",
              "      <td>4.048000</td>\n",
              "      <td>1537.118000</td>\n",
              "      <td>33.946000</td>\n",
              "      <td>5013.402000</td>\n",
              "      <td>14.810000</td>\n",
              "      <td>20.043000</td>\n",
              "      <td>107.539000</td>\n",
              "      <td>10.132000</td>\n",
              "      <td>975.657000</td>\n",
              "      <td>15.129000</td>\n",
              "      <td>1.151000</td>\n",
              "      <td>1.149000</td>\n",
              "      <td>16.893000</td>\n",
              "    </tr>\n",
              "  </tbody>\n",
              "</table>\n",
              "</div>\n",
              "    <div class=\"colab-df-buttons\">\n",
              "\n",
              "  <div class=\"colab-df-container\">\n",
              "    <button class=\"colab-df-convert\" onclick=\"convertToInteractive('df-a3734a3f-0ce8-41d5-bd30-4eab972bb72f')\"\n",
              "            title=\"Convert this dataframe to an interactive table.\"\n",
              "            style=\"display:none;\">\n",
              "\n",
              "  <svg xmlns=\"http://www.w3.org/2000/svg\" height=\"24px\" viewBox=\"0 -960 960 960\">\n",
              "    <path d=\"M120-120v-720h720v720H120Zm60-500h600v-160H180v160Zm220 220h160v-160H400v160Zm0 220h160v-160H400v160ZM180-400h160v-160H180v160Zm440 0h160v-160H620v160ZM180-180h160v-160H180v160Zm440 0h160v-160H620v160Z\"/>\n",
              "  </svg>\n",
              "    </button>\n",
              "\n",
              "  <style>\n",
              "    .colab-df-container {\n",
              "      display:flex;\n",
              "      gap: 12px;\n",
              "    }\n",
              "\n",
              "    .colab-df-convert {\n",
              "      background-color: #E8F0FE;\n",
              "      border: none;\n",
              "      border-radius: 50%;\n",
              "      cursor: pointer;\n",
              "      display: none;\n",
              "      fill: #1967D2;\n",
              "      height: 32px;\n",
              "      padding: 0 0 0 0;\n",
              "      width: 32px;\n",
              "    }\n",
              "\n",
              "    .colab-df-convert:hover {\n",
              "      background-color: #E2EBFA;\n",
              "      box-shadow: 0px 1px 2px rgba(60, 64, 67, 0.3), 0px 1px 3px 1px rgba(60, 64, 67, 0.15);\n",
              "      fill: #174EA6;\n",
              "    }\n",
              "\n",
              "    .colab-df-buttons div {\n",
              "      margin-bottom: 4px;\n",
              "    }\n",
              "\n",
              "    [theme=dark] .colab-df-convert {\n",
              "      background-color: #3B4455;\n",
              "      fill: #D2E3FC;\n",
              "    }\n",
              "\n",
              "    [theme=dark] .colab-df-convert:hover {\n",
              "      background-color: #434B5C;\n",
              "      box-shadow: 0px 1px 3px 1px rgba(0, 0, 0, 0.15);\n",
              "      filter: drop-shadow(0px 1px 2px rgba(0, 0, 0, 0.3));\n",
              "      fill: #FFFFFF;\n",
              "    }\n",
              "  </style>\n",
              "\n",
              "    <script>\n",
              "      const buttonEl =\n",
              "        document.querySelector('#df-a3734a3f-0ce8-41d5-bd30-4eab972bb72f button.colab-df-convert');\n",
              "      buttonEl.style.display =\n",
              "        google.colab.kernel.accessAllowed ? 'block' : 'none';\n",
              "\n",
              "      async function convertToInteractive(key) {\n",
              "        const element = document.querySelector('#df-a3734a3f-0ce8-41d5-bd30-4eab972bb72f');\n",
              "        const dataTable =\n",
              "          await google.colab.kernel.invokeFunction('convertToInteractive',\n",
              "                                                    [key], {});\n",
              "        if (!dataTable) return;\n",
              "\n",
              "        const docLinkHtml = 'Like what you see? Visit the ' +\n",
              "          '<a target=\"_blank\" href=https://colab.research.google.com/notebooks/data_table.ipynb>data table notebook</a>'\n",
              "          + ' to learn more about interactive tables.';\n",
              "        element.innerHTML = '';\n",
              "        dataTable['output_type'] = 'display_data';\n",
              "        await google.colab.output.renderOutput(dataTable, element);\n",
              "        const docLink = document.createElement('div');\n",
              "        docLink.innerHTML = docLinkHtml;\n",
              "        element.appendChild(docLink);\n",
              "      }\n",
              "    </script>\n",
              "  </div>\n",
              "\n",
              "\n",
              "<div id=\"df-bab74bff-ce38-46a9-bcf1-3a892d34fffe\">\n",
              "  <button class=\"colab-df-quickchart\" onclick=\"quickchart('df-bab74bff-ce38-46a9-bcf1-3a892d34fffe')\"\n",
              "            title=\"Suggest charts\"\n",
              "            style=\"display:none;\">\n",
              "\n",
              "<svg xmlns=\"http://www.w3.org/2000/svg\" height=\"24px\"viewBox=\"0 0 24 24\"\n",
              "     width=\"24px\">\n",
              "    <g>\n",
              "        <path d=\"M19 3H5c-1.1 0-2 .9-2 2v14c0 1.1.9 2 2 2h14c1.1 0 2-.9 2-2V5c0-1.1-.9-2-2-2zM9 17H7v-7h2v7zm4 0h-2V7h2v10zm4 0h-2v-4h2v4z\"/>\n",
              "    </g>\n",
              "</svg>\n",
              "  </button>\n",
              "\n",
              "<style>\n",
              "  .colab-df-quickchart {\n",
              "      --bg-color: #E8F0FE;\n",
              "      --fill-color: #1967D2;\n",
              "      --hover-bg-color: #E2EBFA;\n",
              "      --hover-fill-color: #174EA6;\n",
              "      --disabled-fill-color: #AAA;\n",
              "      --disabled-bg-color: #DDD;\n",
              "  }\n",
              "\n",
              "  [theme=dark] .colab-df-quickchart {\n",
              "      --bg-color: #3B4455;\n",
              "      --fill-color: #D2E3FC;\n",
              "      --hover-bg-color: #434B5C;\n",
              "      --hover-fill-color: #FFFFFF;\n",
              "      --disabled-bg-color: #3B4455;\n",
              "      --disabled-fill-color: #666;\n",
              "  }\n",
              "\n",
              "  .colab-df-quickchart {\n",
              "    background-color: var(--bg-color);\n",
              "    border: none;\n",
              "    border-radius: 50%;\n",
              "    cursor: pointer;\n",
              "    display: none;\n",
              "    fill: var(--fill-color);\n",
              "    height: 32px;\n",
              "    padding: 0;\n",
              "    width: 32px;\n",
              "  }\n",
              "\n",
              "  .colab-df-quickchart:hover {\n",
              "    background-color: var(--hover-bg-color);\n",
              "    box-shadow: 0 1px 2px rgba(60, 64, 67, 0.3), 0 1px 3px 1px rgba(60, 64, 67, 0.15);\n",
              "    fill: var(--button-hover-fill-color);\n",
              "  }\n",
              "\n",
              "  .colab-df-quickchart-complete:disabled,\n",
              "  .colab-df-quickchart-complete:disabled:hover {\n",
              "    background-color: var(--disabled-bg-color);\n",
              "    fill: var(--disabled-fill-color);\n",
              "    box-shadow: none;\n",
              "  }\n",
              "\n",
              "  .colab-df-spinner {\n",
              "    border: 2px solid var(--fill-color);\n",
              "    border-color: transparent;\n",
              "    border-bottom-color: var(--fill-color);\n",
              "    animation:\n",
              "      spin 1s steps(1) infinite;\n",
              "  }\n",
              "\n",
              "  @keyframes spin {\n",
              "    0% {\n",
              "      border-color: transparent;\n",
              "      border-bottom-color: var(--fill-color);\n",
              "      border-left-color: var(--fill-color);\n",
              "    }\n",
              "    20% {\n",
              "      border-color: transparent;\n",
              "      border-left-color: var(--fill-color);\n",
              "      border-top-color: var(--fill-color);\n",
              "    }\n",
              "    30% {\n",
              "      border-color: transparent;\n",
              "      border-left-color: var(--fill-color);\n",
              "      border-top-color: var(--fill-color);\n",
              "      border-right-color: var(--fill-color);\n",
              "    }\n",
              "    40% {\n",
              "      border-color: transparent;\n",
              "      border-right-color: var(--fill-color);\n",
              "      border-top-color: var(--fill-color);\n",
              "    }\n",
              "    60% {\n",
              "      border-color: transparent;\n",
              "      border-right-color: var(--fill-color);\n",
              "    }\n",
              "    80% {\n",
              "      border-color: transparent;\n",
              "      border-right-color: var(--fill-color);\n",
              "      border-bottom-color: var(--fill-color);\n",
              "    }\n",
              "    90% {\n",
              "      border-color: transparent;\n",
              "      border-bottom-color: var(--fill-color);\n",
              "    }\n",
              "  }\n",
              "</style>\n",
              "\n",
              "  <script>\n",
              "    async function quickchart(key) {\n",
              "      const quickchartButtonEl =\n",
              "        document.querySelector('#' + key + ' button');\n",
              "      quickchartButtonEl.disabled = true;  // To prevent multiple clicks.\n",
              "      quickchartButtonEl.classList.add('colab-df-spinner');\n",
              "      try {\n",
              "        const charts = await google.colab.kernel.invokeFunction(\n",
              "            'suggestCharts', [key], {});\n",
              "      } catch (error) {\n",
              "        console.error('Error during call to suggestCharts:', error);\n",
              "      }\n",
              "      quickchartButtonEl.classList.remove('colab-df-spinner');\n",
              "      quickchartButtonEl.classList.add('colab-df-quickchart-complete');\n",
              "    }\n",
              "    (() => {\n",
              "      let quickchartButtonEl =\n",
              "        document.querySelector('#df-bab74bff-ce38-46a9-bcf1-3a892d34fffe button');\n",
              "      quickchartButtonEl.style.display =\n",
              "        google.colab.kernel.accessAllowed ? 'block' : 'none';\n",
              "    })();\n",
              "  </script>\n",
              "</div>\n",
              "\n",
              "    </div>\n",
              "  </div>\n"
            ],
            "application/vnd.google.colaboratory.intrinsic+json": {
              "type": "dataframe",
              "summary": "{\n  \"name\": \"dataset\",\n  \"rows\": 8,\n  \"fields\": [\n    {\n      \"column\": \"Fault\",\n      \"properties\": {\n        \"dtype\": \"number\",\n        \"std\": 19798.099375874925,\n        \"min\": 0.0,\n        \"max\": 55999.0,\n        \"num_unique_values\": 6,\n        \"samples\": [\n          55999.0,\n          1.4821871819139627,\n          3.0\n        ],\n        \"semantic_type\": \"\",\n        \"description\": \"\"\n      }\n    },\n    {\n      \"column\": \"MAP\",\n      \"properties\": {\n        \"dtype\": \"number\",\n        \"std\": 19798.01156390542,\n        \"min\": 0.453,\n        \"max\": 55999.0,\n        \"num_unique_values\": 8,\n        \"samples\": [\n          1.8325149734816695,\n          1.543,\n          55999.0\n        ],\n        \"semantic_type\": \"\",\n        \"description\": \"\"\n      }\n    },\n    {\n      \"column\": \"TPS\",\n      \"properties\": {\n        \"dtype\": \"number\",\n        \"std\": 19798.136112624565,\n        \"min\": 0.382,\n        \"max\": 55999.0,\n        \"num_unique_values\": 8,\n        \"samples\": [\n          1.3952694690976624,\n          1.013,\n          55999.0\n        ],\n        \"semantic_type\": \"\",\n        \"description\": \"\"\n      }\n    },\n    {\n      \"column\": \"Force\",\n      \"properties\": {\n        \"dtype\": \"number\",\n        \"std\": 19671.773778093357,\n        \"min\": 2.58,\n        \"max\": 55999.0,\n        \"num_unique_values\": 8,\n        \"samples\": [\n          286.69170520902156,\n          92.5,\n          55999.0\n        ],\n        \"semantic_type\": \"\",\n        \"description\": \"\"\n      }\n    },\n    {\n      \"column\": \"Power\",\n      \"properties\": {\n        \"dtype\": \"number\",\n        \"std\": 19795.818943951774,\n        \"min\": 0.465,\n        \"max\": 55999.0,\n        \"num_unique_values\": 8,\n        \"samples\": [\n          5.657126287969429,\n          2.398,\n          55999.0\n        ],\n        \"semantic_type\": \"\",\n        \"description\": \"\"\n      }\n    },\n    {\n      \"column\": \"RPM\",\n      \"properties\": {\n        \"dtype\": \"number\",\n        \"std\": 19027.33493131486,\n        \"min\": 932.0086795135965,\n        \"max\": 55999.0,\n        \"num_unique_values\": 8,\n        \"samples\": [\n          2398.0537742995407,\n          2105.588,\n          55999.0\n        ],\n        \"semantic_type\": \"\",\n        \"description\": \"\"\n      }\n    },\n    {\n      \"column\": \"Consumption L/H\",\n      \"properties\": {\n        \"dtype\": \"number\",\n        \"std\": 19796.849000482365,\n        \"min\": 1.917,\n        \"max\": 55999.0,\n        \"num_unique_values\": 8,\n        \"samples\": [\n          4.49763379703209,\n          3.824,\n          55999.0\n        ],\n        \"semantic_type\": \"\",\n        \"description\": \"\"\n      }\n    },\n    {\n      \"column\": \"Consumption L/100KM\",\n      \"properties\": {\n        \"dtype\": \"number\",\n        \"std\": 19795.511100806893,\n        \"min\": 3.1541099224745235,\n        \"max\": 55999.0,\n        \"num_unique_values\": 8,\n        \"samples\": [\n          8.939793674887051,\n          8.068,\n          55999.0\n        ],\n        \"semantic_type\": \"\",\n        \"description\": \"\"\n      }\n    },\n    {\n      \"column\": \"Speed\",\n      \"properties\": {\n        \"dtype\": \"number\",\n        \"std\": 19781.157220193425,\n        \"min\": 20.140345023583553,\n        \"max\": 55999.0,\n        \"num_unique_values\": 8,\n        \"samples\": [\n          51.68873963820782,\n          45.393,\n          55999.0\n        ],\n        \"semantic_type\": \"\",\n        \"description\": \"\"\n      }\n    },\n    {\n      \"column\": \"CO\",\n      \"properties\": {\n        \"dtype\": \"number\",\n        \"std\": 19797.69211302447,\n        \"min\": 0.421,\n        \"max\": 55999.0,\n        \"num_unique_values\": 8,\n        \"samples\": [\n          1.932429686244397,\n          1.129,\n          55999.0\n        ],\n        \"semantic_type\": \"\",\n        \"description\": \"\"\n      }\n    },\n    {\n      \"column\": \"HC\",\n      \"properties\": {\n        \"dtype\": \"number\",\n        \"std\": 19709.099168024914,\n        \"min\": 1.787,\n        \"max\": 55999.0,\n        \"num_unique_values\": 8,\n        \"samples\": [\n          188.44608348363363,\n          178.265,\n          55999.0\n        ],\n        \"semantic_type\": \"\",\n        \"description\": \"\"\n      }\n    },\n    {\n      \"column\": \"CO2\",\n      \"properties\": {\n        \"dtype\": \"number\",\n        \"std\": 19794.718306109287,\n        \"min\": 1.0465668058374098,\n        \"max\": 55999.0,\n        \"num_unique_values\": 8,\n        \"samples\": [\n          13.035229700530365,\n          13.242,\n          55999.0\n        ],\n        \"semantic_type\": \"\",\n        \"description\": \"\"\n      }\n    },\n    {\n      \"column\": \"O2\",\n      \"properties\": {\n        \"dtype\": \"number\",\n        \"std\": 19798.4393109983,\n        \"min\": 0.203,\n        \"max\": 55999.0,\n        \"num_unique_values\": 8,\n        \"samples\": [\n          0.5859104626868337,\n          0.533,\n          55999.0\n        ],\n        \"semantic_type\": \"\",\n        \"description\": \"\"\n      }\n    },\n    {\n      \"column\": \"Lambda\",\n      \"properties\": {\n        \"dtype\": \"number\",\n        \"std\": 19798.34358653854,\n        \"min\": 0.06597266436132196,\n        \"max\": 55999.0,\n        \"num_unique_values\": 8,\n        \"samples\": [\n          0.9639070340541794,\n          0.977,\n          55999.0\n        ],\n        \"semantic_type\": \"\",\n        \"description\": \"\"\n      }\n    },\n    {\n      \"column\": \"AFR\",\n      \"properties\": {\n        \"dtype\": \"number\",\n        \"std\": 19794.33316789385,\n        \"min\": 0.9698024120602627,\n        \"max\": 55999.0,\n        \"num_unique_values\": 8,\n        \"samples\": [\n          14.169407739423917,\n          14.365,\n          55999.0\n        ],\n        \"semantic_type\": \"\",\n        \"description\": \"\"\n      }\n    }\n  ]\n}"
            }
          },
          "metadata": {},
          "execution_count": 7
        }
      ],
      "source": [
        "#Take a look at the dataset using \"Describe\"\n",
        "dataset.describe()"
      ]
    },
    {
      "cell_type": "markdown",
      "metadata": {
        "id": "6gBs7oqqCpz6"
      },
      "source": [
        "## 2. Prepare the Dataset for Training our Autoencoder:\n",
        "\n",
        "This dataset contains 4 categories of faulty engine data:\n",
        "- No fault (0)\n",
        "- Fault type 1\n",
        "- Fault type 2\n",
        "- Fault type 3\n",
        "\n",
        "As we are trying to get the autoencoder to realise what \"healthy\" engine data looks like, we don't need the faulty data, so the first step is to create a dataset of only the healthy data:\n"
      ]
    },
    {
      "cell_type": "markdown",
      "source": [
        "#### 2.1 Create the healthy dataset:"
      ],
      "metadata": {
        "id": "IdmgYpSu-piF"
      }
    },
    {
      "cell_type": "code",
      "execution_count": null,
      "metadata": {
        "id": "aFMScUyr0SUH"
      },
      "outputs": [],
      "source": [
        "#Create a dataset for the healthy data:\n",
        "healthy_dataset = dataset[dataset['Fault']== 0] #Healthy Dataset\n"
      ]
    },
    {
      "cell_type": "code",
      "execution_count": null,
      "metadata": {
        "colab": {
          "base_uri": "https://localhost:8080/"
        },
        "id": "U4GcXSBkEJIm",
        "outputId": "93dbc5a6-6386-4375-8fcf-7898efc02dac"
      },
      "outputs": [
        {
          "output_type": "execute_result",
          "data": {
            "text/plain": [
              "(16000, 15)"
            ]
          },
          "metadata": {},
          "execution_count": 9
        }
      ],
      "source": [
        "healthy_dataset.shape"
      ]
    },
    {
      "cell_type": "code",
      "execution_count": null,
      "metadata": {
        "colab": {
          "base_uri": "https://localhost:8080/"
        },
        "id": "vKgQEyz5WvO3",
        "outputId": "4a600418-8b25-4d14-b3d0-82bcf066861a"
      },
      "outputs": [
        {
          "output_type": "execute_result",
          "data": {
            "text/plain": [
              "array([0])"
            ]
          },
          "metadata": {},
          "execution_count": 10
        }
      ],
      "source": [
        "#Doublecheck if there are only healthy data within the healthy dataset:\n",
        "healthy_dataset[\"Fault\"].unique()\n"
      ]
    },
    {
      "cell_type": "code",
      "execution_count": null,
      "metadata": {
        "id": "xb0YAG0_EiJr"
      },
      "outputs": [],
      "source": [
        "#Remove the \"Fault column\" as we don't need it to understand the behavior of the data:\n",
        "healthy_dataset = healthy_dataset.drop(\"Fault\", axis=1)\n"
      ]
    },
    {
      "cell_type": "code",
      "execution_count": null,
      "metadata": {
        "colab": {
          "base_uri": "https://localhost:8080/"
        },
        "id": "7JYojos1EaRB",
        "outputId": "95f532d7-f6ae-4f24-aaf7-e99552f10e91"
      },
      "outputs": [
        {
          "output_type": "execute_result",
          "data": {
            "text/plain": [
              "(16000, 14)"
            ]
          },
          "metadata": {},
          "execution_count": 12
        }
      ],
      "source": [
        "healthy_dataset.shape"
      ]
    },
    {
      "cell_type": "code",
      "execution_count": null,
      "metadata": {
        "id": "gI9uco60WyEj"
      },
      "outputs": [],
      "source": [
        "# This is the feature vector that goes to the neural net\n",
        "healthy_input = healthy_dataset.values\n"
      ]
    },
    {
      "cell_type": "markdown",
      "metadata": {
        "id": "8l4-dlQHEwbn"
      },
      "source": [
        "#### 2.2 Train and Test Split\n",
        "\n",
        "First generate the train and test split.\n",
        "Then normalise the training data. Afterwards, perform normalisation on testing samples as well, but this time using the mean and variance of training  variables. In this way, we can test and evaluate whether our model can generalize well to new, unseen data points.\n"
      ]
    },
    {
      "cell_type": "code",
      "execution_count": null,
      "metadata": {
        "colab": {
          "base_uri": "https://localhost:8080/"
        },
        "id": "hy_Ak8dR1QRi",
        "outputId": "8651b3aa-0b4a-43a0-fe69-58f31426fe5a"
      },
      "outputs": [
        {
          "output_type": "stream",
          "name": "stdout",
          "text": [
            "Good train count: 12800\n",
            "Good test count: 3200\n"
          ]
        }
      ],
      "source": [
        "from sklearn.model_selection import train_test_split\n",
        "\n",
        "healthy_train, healthy_test = train_test_split(\n",
        "        healthy_input, test_size=0.2, random_state=42)\n",
        "\n",
        "print(f\"Good train count: {len(healthy_train)}\")\n",
        "print(f\"Good test count: {len(healthy_test)}\")\n",
        "\n",
        "#"
      ]
    },
    {
      "cell_type": "markdown",
      "metadata": {
        "id": "McxUFKNEVNQJ"
      },
      "source": [
        "It's good practice to normalise input data to the model. This can assist your eeural network to learn faster."
      ]
    },
    {
      "cell_type": "code",
      "execution_count": null,
      "metadata": {
        "id": "mDBKIUVQNYad"
      },
      "outputs": [],
      "source": [
        "from sklearn.preprocessing import Normalizer, MinMaxScaler\n",
        "from sklearn.pipeline import Pipeline\n",
        "\n",
        "# configure our pipeline\n",
        "pipeline = Pipeline([('normalizer', Normalizer()),\n",
        "                     ('scaler', MinMaxScaler())])\n",
        "\n",
        "pipeline.fit(healthy_train);"
      ]
    },
    {
      "cell_type": "code",
      "execution_count": null,
      "metadata": {
        "id": "h8mG-QGltjOP"
      },
      "outputs": [],
      "source": [
        "# transform the training and validation data with these parameters\n",
        "train_transformed = pipeline.transform(healthy_train)\n",
        "test_transformed = pipeline.transform(healthy_test)"
      ]
    },
    {
      "cell_type": "markdown",
      "metadata": {
        "id": "9PWEZ16LFEFb"
      },
      "source": [
        "## 3. Model Engineering and Training"
      ]
    },
    {
      "cell_type": "markdown",
      "metadata": {
        "id": "GDLzhV28Frli"
      },
      "source": [
        "### 3.1 Model Engineering"
      ]
    },
    {
      "cell_type": "code",
      "execution_count": null,
      "metadata": {
        "id": "Bj45n8NfFPif"
      },
      "outputs": [],
      "source": [
        "# get the input dimension for model which will be the number of features (Columns). In our case this is 14.\n",
        "input_dimension=train_transformed.shape[1]"
      ]
    },
    {
      "cell_type": "code",
      "execution_count": null,
      "metadata": {
        "id": "ee3F8rY61h_N"
      },
      "outputs": [],
      "source": [
        "########\n",
        "#Define the autoencoder model\n",
        "#Since we're dealing with numeric values we can use only Dense layers.\n",
        "\n",
        "from sklearn import metrics\n",
        "import numpy as np\n",
        "import pandas as pd\n",
        "from tensorflow.keras.models import Sequential\n",
        "from tensorflow.keras.layers import Dense\n",
        "\n",
        "model = Sequential()\n",
        "model.add(Dense(10, input_dim=input_dimension, activation='relu'))#input dimensions equal to number of features/columns\n",
        "model.add(Dense(3, activation='relu'))\n",
        "model.add(Dense(10, activation='relu'))\n",
        "model.add(Dense(input_dimension)) #output dimensions equal to number of features/columns as we reconstructing the data\n",
        "\n",
        "\n",
        "\n",
        "\n",
        "\n"
      ]
    },
    {
      "cell_type": "code",
      "execution_count": null,
      "metadata": {
        "colab": {
          "base_uri": "https://localhost:8080/",
          "height": 533
        },
        "id": "7wFckQS2xsvM",
        "outputId": "b6ef3ee8-cf84-4f07-8cd0-16faea9212c1"
      },
      "outputs": [
        {
          "output_type": "execute_result",
          "data": {
            "image/png": "[encoded data removed]",
            "text/plain": [
              "<IPython.core.display.Image object>"
            ]
          },
          "metadata": {},
          "execution_count": 19
        }
      ],
      "source": [
        "\n",
        "#Visualise the model we created.\n",
        "import tensorflow as tf\n",
        "tf.keras.utils.plot_model(model, rankdir=\"TB\", show_shapes=True, show_layer_activations=True,show_layer_names=True)\n"
      ]
    },
    {
      "cell_type": "code",
      "execution_count": null,
      "metadata": {
        "id": "Wenm0WL3RLF3"
      },
      "outputs": [],
      "source": [
        "# Specify the loss and optimiser\n",
        "model.compile(loss='mean_squared_error', optimizer='adam')\n"
      ]
    },
    {
      "cell_type": "code",
      "execution_count": null,
      "metadata": {
        "colab": {
          "base_uri": "https://localhost:8080/"
        },
        "id": "H7M54ehiLTqn",
        "outputId": "e38a445c-5e79-4383-9229-4b1fa8765716"
      },
      "outputs": [
        {
          "output_type": "stream",
          "name": "stdout",
          "text": [
            "Model: \"sequential\"\n",
            "_________________________________________________________________\n",
            " Layer (type)                Output Shape              Param #   \n",
            "=================================================================\n",
            " dense (Dense)               (None, 10)                150       \n",
            "                                                                 \n",
            " dense_1 (Dense)             (None, 3)                 33        \n",
            "                                                                 \n",
            " dense_2 (Dense)             (None, 10)                40        \n",
            "                                                                 \n",
            " dense_3 (Dense)             (None, 14)                154       \n",
            "                                                                 \n",
            "=================================================================\n",
            "Total params: 377 (1.47 KB)\n",
            "Trainable params: 377 (1.47 KB)\n",
            "Non-trainable params: 0 (0.00 Byte)\n",
            "_________________________________________________________________\n"
          ]
        }
      ],
      "source": [
        "#Look at the model's summary\n",
        "model.summary()"
      ]
    },
    {
      "cell_type": "markdown",
      "metadata": {
        "id": "p-1KwqEPFmY2"
      },
      "source": [
        "### 3.2 Model Training"
      ]
    },
    {
      "cell_type": "code",
      "execution_count": null,
      "metadata": {
        "colab": {
          "base_uri": "https://localhost:8080/"
        },
        "id": "FbXZj9IbFl-f",
        "outputId": "547614fc-925d-477a-9b6a-4c7401fd3ab6"
      },
      "outputs": [
        {
          "output_type": "stream",
          "name": "stdout",
          "text": [
            "Epoch 1/200\n",
            "13/13 [==============================] - 4s 18ms/step - loss: 0.2752 - val_loss: 0.2572\n",
            "Epoch 2/200\n",
            "13/13 [==============================] - 0s 5ms/step - loss: 0.2492 - val_loss: 0.2376\n",
            "Epoch 3/200\n",
            "13/13 [==============================] - 0s 7ms/step - loss: 0.2314 - val_loss: 0.2216\n",
            "Epoch 4/200\n",
            "13/13 [==============================] - 0s 6ms/step - loss: 0.2156 - val_loss: 0.2058\n",
            "Epoch 5/200\n",
            "13/13 [==============================] - 0s 5ms/step - loss: 0.1998 - val_loss: 0.1899\n",
            "Epoch 6/200\n",
            "13/13 [==============================] - 0s 12ms/step - loss: 0.1838 - val_loss: 0.1738\n",
            "Epoch 7/200\n",
            "13/13 [==============================] - 0s 10ms/step - loss: 0.1676 - val_loss: 0.1574\n",
            "Epoch 8/200\n",
            "13/13 [==============================] - 0s 10ms/step - loss: 0.1511 - val_loss: 0.1410\n",
            "Epoch 9/200\n",
            "13/13 [==============================] - 0s 6ms/step - loss: 0.1348 - val_loss: 0.1249\n",
            "Epoch 10/200\n",
            "13/13 [==============================] - 0s 5ms/step - loss: 0.1191 - val_loss: 0.1097\n",
            "Epoch 11/200\n",
            "13/13 [==============================] - 0s 10ms/step - loss: 0.1041 - val_loss: 0.0950\n",
            "Epoch 12/200\n",
            "13/13 [==============================] - 0s 10ms/step - loss: 0.0899 - val_loss: 0.0824\n",
            "Epoch 13/200\n",
            "13/13 [==============================] - 0s 18ms/step - loss: 0.0782 - val_loss: 0.0722\n",
            "Epoch 14/200\n",
            "13/13 [==============================] - 0s 11ms/step - loss: 0.0691 - val_loss: 0.0644\n",
            "Epoch 15/200\n",
            "13/13 [==============================] - 0s 8ms/step - loss: 0.0621 - val_loss: 0.0586\n",
            "Epoch 16/200\n",
            "13/13 [==============================] - 0s 8ms/step - loss: 0.0570 - val_loss: 0.0542\n",
            "Epoch 17/200\n",
            "13/13 [==============================] - 0s 8ms/step - loss: 0.0530 - val_loss: 0.0508\n",
            "Epoch 18/200\n",
            "13/13 [==============================] - 0s 9ms/step - loss: 0.0499 - val_loss: 0.0480\n",
            "Epoch 19/200\n",
            "13/13 [==============================] - 0s 12ms/step - loss: 0.0474 - val_loss: 0.0458\n",
            "Epoch 20/200\n",
            "13/13 [==============================] - 0s 6ms/step - loss: 0.0453 - val_loss: 0.0440\n",
            "Epoch 21/200\n",
            "13/13 [==============================] - 0s 6ms/step - loss: 0.0436 - val_loss: 0.0423\n",
            "Epoch 22/200\n",
            "13/13 [==============================] - 0s 6ms/step - loss: 0.0420 - val_loss: 0.0408\n",
            "Epoch 23/200\n",
            "13/13 [==============================] - 0s 6ms/step - loss: 0.0405 - val_loss: 0.0394\n",
            "Epoch 24/200\n",
            "13/13 [==============================] - 0s 5ms/step - loss: 0.0391 - val_loss: 0.0380\n",
            "Epoch 25/200\n",
            "13/13 [==============================] - 0s 11ms/step - loss: 0.0378 - val_loss: 0.0367\n",
            "Epoch 26/200\n",
            "13/13 [==============================] - 0s 19ms/step - loss: 0.0364 - val_loss: 0.0353\n",
            "Epoch 27/200\n",
            "13/13 [==============================] - 0s 19ms/step - loss: 0.0350 - val_loss: 0.0339\n",
            "Epoch 28/200\n",
            "13/13 [==============================] - 0s 29ms/step - loss: 0.0337 - val_loss: 0.0326\n",
            "Epoch 29/200\n",
            "13/13 [==============================] - 0s 17ms/step - loss: 0.0323 - val_loss: 0.0312\n",
            "Epoch 30/200\n",
            "13/13 [==============================] - 0s 14ms/step - loss: 0.0309 - val_loss: 0.0297\n",
            "Epoch 31/200\n",
            "13/13 [==============================] - 0s 8ms/step - loss: 0.0294 - val_loss: 0.0282\n",
            "Epoch 32/200\n",
            "13/13 [==============================] - 0s 12ms/step - loss: 0.0277 - val_loss: 0.0265\n",
            "Epoch 33/200\n",
            "13/13 [==============================] - 0s 10ms/step - loss: 0.0259 - val_loss: 0.0248\n",
            "Epoch 34/200\n",
            "13/13 [==============================] - 0s 8ms/step - loss: 0.0243 - val_loss: 0.0233\n",
            "Epoch 35/200\n",
            "13/13 [==============================] - 0s 17ms/step - loss: 0.0227 - val_loss: 0.0219\n",
            "Epoch 36/200\n",
            "13/13 [==============================] - 0s 9ms/step - loss: 0.0214 - val_loss: 0.0206\n",
            "Epoch 37/200\n",
            "13/13 [==============================] - 0s 7ms/step - loss: 0.0201 - val_loss: 0.0195\n",
            "Epoch 38/200\n",
            "13/13 [==============================] - 0s 9ms/step - loss: 0.0190 - val_loss: 0.0185\n",
            "Epoch 39/200\n",
            "13/13 [==============================] - 0s 12ms/step - loss: 0.0180 - val_loss: 0.0176\n",
            "Epoch 40/200\n",
            "13/13 [==============================] - 0s 11ms/step - loss: 0.0172 - val_loss: 0.0169\n",
            "Epoch 41/200\n",
            "13/13 [==============================] - 0s 9ms/step - loss: 0.0164 - val_loss: 0.0162\n",
            "Epoch 42/200\n",
            "13/13 [==============================] - 0s 21ms/step - loss: 0.0158 - val_loss: 0.0157\n",
            "Epoch 43/200\n",
            "13/13 [==============================] - 0s 19ms/step - loss: 0.0152 - val_loss: 0.0152\n",
            "Epoch 44/200\n",
            "13/13 [==============================] - 0s 21ms/step - loss: 0.0148 - val_loss: 0.0147\n",
            "Epoch 45/200\n",
            "13/13 [==============================] - 0s 15ms/step - loss: 0.0143 - val_loss: 0.0143\n",
            "Epoch 46/200\n",
            "13/13 [==============================] - 0s 10ms/step - loss: 0.0140 - val_loss: 0.0140\n",
            "Epoch 47/200\n",
            "13/13 [==============================] - 0s 13ms/step - loss: 0.0136 - val_loss: 0.0137\n",
            "Epoch 48/200\n",
            "13/13 [==============================] - 0s 10ms/step - loss: 0.0133 - val_loss: 0.0134\n",
            "Epoch 49/200\n",
            "13/13 [==============================] - 0s 8ms/step - loss: 0.0131 - val_loss: 0.0132\n",
            "Epoch 50/200\n",
            "13/13 [==============================] - 0s 6ms/step - loss: 0.0128 - val_loss: 0.0130\n",
            "Epoch 51/200\n",
            "13/13 [==============================] - 0s 7ms/step - loss: 0.0126 - val_loss: 0.0128\n",
            "Epoch 52/200\n",
            "13/13 [==============================] - 0s 6ms/step - loss: 0.0124 - val_loss: 0.0126\n",
            "Epoch 53/200\n",
            "13/13 [==============================] - 0s 6ms/step - loss: 0.0122 - val_loss: 0.0124\n",
            "Epoch 54/200\n",
            "13/13 [==============================] - 0s 6ms/step - loss: 0.0121 - val_loss: 0.0123\n",
            "Epoch 55/200\n",
            "13/13 [==============================] - 0s 5ms/step - loss: 0.0119 - val_loss: 0.0121\n",
            "Epoch 56/200\n",
            "13/13 [==============================] - 0s 16ms/step - loss: 0.0118 - val_loss: 0.0120\n",
            "Epoch 57/200\n",
            "13/13 [==============================] - 0s 8ms/step - loss: 0.0117 - val_loss: 0.0119\n",
            "Epoch 58/200\n",
            "13/13 [==============================] - 0s 7ms/step - loss: 0.0116 - val_loss: 0.0118\n",
            "Epoch 59/200\n",
            "13/13 [==============================] - 0s 9ms/step - loss: 0.0115 - val_loss: 0.0117\n",
            "Epoch 60/200\n",
            "13/13 [==============================] - 0s 30ms/step - loss: 0.0114 - val_loss: 0.0116\n",
            "Epoch 61/200\n",
            "13/13 [==============================] - 0s 21ms/step - loss: 0.0113 - val_loss: 0.0115\n",
            "Epoch 62/200\n",
            "13/13 [==============================] - 0s 20ms/step - loss: 0.0112 - val_loss: 0.0114\n",
            "Epoch 63/200\n",
            "13/13 [==============================] - 0s 18ms/step - loss: 0.0111 - val_loss: 0.0113\n",
            "Epoch 64/200\n",
            "13/13 [==============================] - 0s 17ms/step - loss: 0.0111 - val_loss: 0.0113\n",
            "Epoch 65/200\n",
            "13/13 [==============================] - 0s 12ms/step - loss: 0.0110 - val_loss: 0.0112\n",
            "Epoch 66/200\n",
            "13/13 [==============================] - 0s 14ms/step - loss: 0.0109 - val_loss: 0.0111\n",
            "Epoch 67/200\n",
            "13/13 [==============================] - 0s 14ms/step - loss: 0.0108 - val_loss: 0.0110\n",
            "Epoch 68/200\n",
            "13/13 [==============================] - 0s 12ms/step - loss: 0.0107 - val_loss: 0.0109\n",
            "Epoch 69/200\n",
            "13/13 [==============================] - 0s 15ms/step - loss: 0.0107 - val_loss: 0.0109\n",
            "Epoch 70/200\n",
            "13/13 [==============================] - 0s 12ms/step - loss: 0.0106 - val_loss: 0.0108\n",
            "Epoch 71/200\n",
            "13/13 [==============================] - 0s 9ms/step - loss: 0.0105 - val_loss: 0.0107\n",
            "Epoch 72/200\n",
            "13/13 [==============================] - 0s 9ms/step - loss: 0.0105 - val_loss: 0.0107\n",
            "Epoch 73/200\n",
            "13/13 [==============================] - 0s 14ms/step - loss: 0.0104 - val_loss: 0.0106\n",
            "Epoch 74/200\n",
            "13/13 [==============================] - 0s 11ms/step - loss: 0.0103 - val_loss: 0.0105\n",
            "Epoch 75/200\n",
            "13/13 [==============================] - 0s 10ms/step - loss: 0.0103 - val_loss: 0.0105\n",
            "Epoch 76/200\n",
            "13/13 [==============================] - 0s 11ms/step - loss: 0.0102 - val_loss: 0.0104\n",
            "Epoch 77/200\n",
            "13/13 [==============================] - 0s 12ms/step - loss: 0.0101 - val_loss: 0.0103\n",
            "Epoch 78/200\n",
            "13/13 [==============================] - 0s 18ms/step - loss: 0.0101 - val_loss: 0.0103\n",
            "Epoch 79/200\n",
            "13/13 [==============================] - 0s 16ms/step - loss: 0.0100 - val_loss: 0.0102\n",
            "Epoch 80/200\n",
            "13/13 [==============================] - 0s 11ms/step - loss: 0.0100 - val_loss: 0.0102\n",
            "Epoch 81/200\n",
            "13/13 [==============================] - 0s 11ms/step - loss: 0.0099 - val_loss: 0.0101\n",
            "Epoch 82/200\n",
            "13/13 [==============================] - 0s 13ms/step - loss: 0.0099 - val_loss: 0.0101\n",
            "Epoch 83/200\n",
            "13/13 [==============================] - 0s 11ms/step - loss: 0.0098 - val_loss: 0.0100\n",
            "Epoch 84/200\n",
            "13/13 [==============================] - 0s 12ms/step - loss: 0.0098 - val_loss: 0.0100\n",
            "Epoch 85/200\n",
            "13/13 [==============================] - 0s 11ms/step - loss: 0.0097 - val_loss: 0.0099\n",
            "Epoch 86/200\n",
            "13/13 [==============================] - 0s 15ms/step - loss: 0.0097 - val_loss: 0.0099\n",
            "Epoch 87/200\n",
            "13/13 [==============================] - 0s 13ms/step - loss: 0.0096 - val_loss: 0.0098\n",
            "Epoch 88/200\n",
            "13/13 [==============================] - 0s 12ms/step - loss: 0.0096 - val_loss: 0.0098\n",
            "Epoch 89/200\n",
            "13/13 [==============================] - 0s 11ms/step - loss: 0.0096 - val_loss: 0.0097\n",
            "Epoch 90/200\n",
            "13/13 [==============================] - 0s 12ms/step - loss: 0.0095 - val_loss: 0.0097\n",
            "Epoch 91/200\n",
            "13/13 [==============================] - 0s 9ms/step - loss: 0.0095 - val_loss: 0.0097\n",
            "Epoch 92/200\n",
            "13/13 [==============================] - 0s 12ms/step - loss: 0.0094 - val_loss: 0.0096\n",
            "Epoch 93/200\n",
            "13/13 [==============================] - 0s 11ms/step - loss: 0.0094 - val_loss: 0.0096\n",
            "Epoch 94/200\n",
            "13/13 [==============================] - 0s 15ms/step - loss: 0.0093 - val_loss: 0.0095\n",
            "Epoch 95/200\n",
            "13/13 [==============================] - 0s 11ms/step - loss: 0.0093 - val_loss: 0.0095\n",
            "Epoch 96/200\n",
            "13/13 [==============================] - 0s 10ms/step - loss: 0.0093 - val_loss: 0.0095\n",
            "Epoch 97/200\n",
            "13/13 [==============================] - 0s 9ms/step - loss: 0.0092 - val_loss: 0.0094\n",
            "Epoch 98/200\n",
            "13/13 [==============================] - 0s 13ms/step - loss: 0.0092 - val_loss: 0.0094\n",
            "Epoch 99/200\n",
            "13/13 [==============================] - 0s 14ms/step - loss: 0.0092 - val_loss: 0.0093\n",
            "Epoch 100/200\n",
            "13/13 [==============================] - 0s 25ms/step - loss: 0.0091 - val_loss: 0.0093\n",
            "Epoch 101/200\n",
            "13/13 [==============================] - 0s 16ms/step - loss: 0.0091 - val_loss: 0.0093\n",
            "Epoch 102/200\n",
            "13/13 [==============================] - 0s 6ms/step - loss: 0.0090 - val_loss: 0.0092\n",
            "Epoch 103/200\n",
            "13/13 [==============================] - 0s 6ms/step - loss: 0.0090 - val_loss: 0.0092\n",
            "Epoch 104/200\n",
            "13/13 [==============================] - 0s 16ms/step - loss: 0.0090 - val_loss: 0.0091\n",
            "Epoch 105/200\n",
            "13/13 [==============================] - 0s 14ms/step - loss: 0.0089 - val_loss: 0.0091\n",
            "Epoch 106/200\n",
            "13/13 [==============================] - 0s 7ms/step - loss: 0.0089 - val_loss: 0.0091\n",
            "Epoch 107/200\n",
            "13/13 [==============================] - 0s 5ms/step - loss: 0.0089 - val_loss: 0.0090\n",
            "Epoch 108/200\n",
            "13/13 [==============================] - 0s 5ms/step - loss: 0.0088 - val_loss: 0.0090\n",
            "Epoch 109/200\n",
            "13/13 [==============================] - 0s 5ms/step - loss: 0.0088 - val_loss: 0.0090\n",
            "Epoch 110/200\n",
            "13/13 [==============================] - 0s 5ms/step - loss: 0.0087 - val_loss: 0.0089\n",
            "Epoch 111/200\n",
            "13/13 [==============================] - 0s 7ms/step - loss: 0.0087 - val_loss: 0.0089\n",
            "Epoch 112/200\n",
            "13/13 [==============================] - 0s 6ms/step - loss: 0.0087 - val_loss: 0.0088\n",
            "Epoch 113/200\n",
            "13/13 [==============================] - 0s 6ms/step - loss: 0.0086 - val_loss: 0.0088\n",
            "Epoch 114/200\n",
            "13/13 [==============================] - 0s 6ms/step - loss: 0.0086 - val_loss: 0.0088\n",
            "Epoch 115/200\n",
            "13/13 [==============================] - 0s 8ms/step - loss: 0.0086 - val_loss: 0.0087\n",
            "Epoch 116/200\n",
            "13/13 [==============================] - 0s 15ms/step - loss: 0.0085 - val_loss: 0.0087\n",
            "Epoch 117/200\n",
            "13/13 [==============================] - 0s 11ms/step - loss: 0.0085 - val_loss: 0.0087\n",
            "Epoch 118/200\n",
            "13/13 [==============================] - 0s 9ms/step - loss: 0.0085 - val_loss: 0.0086\n",
            "Epoch 119/200\n",
            "13/13 [==============================] - 0s 10ms/step - loss: 0.0084 - val_loss: 0.0086\n",
            "Epoch 120/200\n",
            "13/13 [==============================] - 0s 12ms/step - loss: 0.0084 - val_loss: 0.0086\n",
            "Epoch 121/200\n",
            "13/13 [==============================] - 0s 9ms/step - loss: 0.0084 - val_loss: 0.0085\n",
            "Epoch 122/200\n",
            "13/13 [==============================] - 0s 8ms/step - loss: 0.0083 - val_loss: 0.0085\n",
            "Epoch 123/200\n",
            "13/13 [==============================] - 0s 9ms/step - loss: 0.0083 - val_loss: 0.0085\n",
            "Epoch 124/200\n",
            "13/13 [==============================] - 0s 11ms/step - loss: 0.0083 - val_loss: 0.0084\n",
            "Epoch 125/200\n",
            "13/13 [==============================] - 0s 9ms/step - loss: 0.0082 - val_loss: 0.0084\n",
            "Epoch 126/200\n",
            "13/13 [==============================] - 0s 9ms/step - loss: 0.0082 - val_loss: 0.0084\n",
            "Epoch 127/200\n",
            "13/13 [==============================] - 0s 13ms/step - loss: 0.0082 - val_loss: 0.0084\n",
            "Epoch 128/200\n",
            "13/13 [==============================] - 0s 9ms/step - loss: 0.0082 - val_loss: 0.0083\n",
            "Epoch 129/200\n",
            "13/13 [==============================] - 0s 8ms/step - loss: 0.0081 - val_loss: 0.0083\n",
            "Epoch 130/200\n",
            "13/13 [==============================] - 0s 16ms/step - loss: 0.0081 - val_loss: 0.0083\n",
            "Epoch 131/200\n",
            "13/13 [==============================] - 0s 13ms/step - loss: 0.0081 - val_loss: 0.0082\n",
            "Epoch 132/200\n",
            "13/13 [==============================] - 0s 8ms/step - loss: 0.0081 - val_loss: 0.0082\n",
            "Epoch 133/200\n",
            "13/13 [==============================] - 0s 10ms/step - loss: 0.0080 - val_loss: 0.0082\n",
            "Epoch 134/200\n",
            "13/13 [==============================] - 0s 10ms/step - loss: 0.0080 - val_loss: 0.0082\n",
            "Epoch 135/200\n",
            "13/13 [==============================] - 0s 10ms/step - loss: 0.0080 - val_loss: 0.0081\n",
            "Epoch 136/200\n",
            "13/13 [==============================] - 0s 8ms/step - loss: 0.0080 - val_loss: 0.0081\n",
            "Epoch 137/200\n",
            "13/13 [==============================] - 0s 9ms/step - loss: 0.0079 - val_loss: 0.0081\n",
            "Epoch 138/200\n",
            "13/13 [==============================] - 0s 10ms/step - loss: 0.0079 - val_loss: 0.0081\n",
            "Epoch 139/200\n",
            "13/13 [==============================] - 0s 19ms/step - loss: 0.0079 - val_loss: 0.0080\n",
            "Epoch 140/200\n",
            "13/13 [==============================] - 0s 11ms/step - loss: 0.0079 - val_loss: 0.0080\n",
            "Epoch 141/200\n",
            "13/13 [==============================] - 0s 9ms/step - loss: 0.0078 - val_loss: 0.0080\n",
            "Epoch 142/200\n",
            "13/13 [==============================] - 0s 12ms/step - loss: 0.0078 - val_loss: 0.0080\n",
            "Epoch 143/200\n",
            "13/13 [==============================] - 0s 9ms/step - loss: 0.0078 - val_loss: 0.0079\n",
            "Epoch 144/200\n",
            "13/13 [==============================] - 0s 11ms/step - loss: 0.0078 - val_loss: 0.0079\n",
            "Epoch 145/200\n",
            "13/13 [==============================] - 0s 8ms/step - loss: 0.0078 - val_loss: 0.0079\n",
            "Epoch 146/200\n",
            "13/13 [==============================] - 0s 5ms/step - loss: 0.0077 - val_loss: 0.0079\n",
            "Epoch 147/200\n",
            "13/13 [==============================] - 0s 6ms/step - loss: 0.0077 - val_loss: 0.0079\n",
            "Epoch 148/200\n",
            "13/13 [==============================] - 0s 6ms/step - loss: 0.0077 - val_loss: 0.0078\n",
            "Epoch 149/200\n",
            "13/13 [==============================] - 0s 6ms/step - loss: 0.0077 - val_loss: 0.0078\n",
            "Epoch 150/200\n",
            "13/13 [==============================] - 0s 6ms/step - loss: 0.0077 - val_loss: 0.0078\n",
            "Epoch 151/200\n",
            "13/13 [==============================] - 0s 9ms/step - loss: 0.0077 - val_loss: 0.0078\n",
            "Epoch 152/200\n",
            "13/13 [==============================] - 0s 6ms/step - loss: 0.0076 - val_loss: 0.0078\n",
            "Epoch 153/200\n",
            "13/13 [==============================] - 0s 5ms/step - loss: 0.0076 - val_loss: 0.0078\n",
            "Epoch 154/200\n",
            "13/13 [==============================] - 0s 5ms/step - loss: 0.0076 - val_loss: 0.0077\n",
            "Epoch 155/200\n",
            "13/13 [==============================] - 0s 5ms/step - loss: 0.0076 - val_loss: 0.0077\n",
            "Epoch 156/200\n",
            "13/13 [==============================] - 0s 8ms/step - loss: 0.0076 - val_loss: 0.0077\n",
            "Epoch 157/200\n",
            "13/13 [==============================] - 0s 7ms/step - loss: 0.0076 - val_loss: 0.0077\n",
            "Epoch 158/200\n",
            "13/13 [==============================] - 0s 6ms/step - loss: 0.0075 - val_loss: 0.0077\n",
            "Epoch 159/200\n",
            "13/13 [==============================] - 0s 6ms/step - loss: 0.0075 - val_loss: 0.0077\n",
            "Epoch 160/200\n",
            "13/13 [==============================] - 0s 6ms/step - loss: 0.0075 - val_loss: 0.0076\n",
            "Epoch 161/200\n",
            "13/13 [==============================] - 0s 5ms/step - loss: 0.0075 - val_loss: 0.0076\n",
            "Epoch 162/200\n",
            "13/13 [==============================] - 0s 7ms/step - loss: 0.0075 - val_loss: 0.0076\n",
            "Epoch 163/200\n",
            "13/13 [==============================] - 0s 5ms/step - loss: 0.0075 - val_loss: 0.0076\n",
            "Epoch 164/200\n",
            "13/13 [==============================] - 0s 6ms/step - loss: 0.0075 - val_loss: 0.0076\n",
            "Epoch 165/200\n",
            "13/13 [==============================] - 0s 6ms/step - loss: 0.0074 - val_loss: 0.0076\n",
            "Epoch 166/200\n",
            "13/13 [==============================] - 0s 5ms/step - loss: 0.0074 - val_loss: 0.0075\n",
            "Epoch 167/200\n",
            "13/13 [==============================] - 0s 5ms/step - loss: 0.0074 - val_loss: 0.0075\n",
            "Epoch 168/200\n",
            "13/13 [==============================] - 0s 9ms/step - loss: 0.0074 - val_loss: 0.0075\n",
            "Epoch 169/200\n",
            "13/13 [==============================] - 0s 24ms/step - loss: 0.0074 - val_loss: 0.0075\n",
            "Epoch 170/200\n",
            "13/13 [==============================] - 0s 13ms/step - loss: 0.0074 - val_loss: 0.0075\n",
            "Epoch 171/200\n",
            "13/13 [==============================] - 0s 18ms/step - loss: 0.0074 - val_loss: 0.0075\n",
            "Epoch 172/200\n",
            "13/13 [==============================] - 0s 16ms/step - loss: 0.0074 - val_loss: 0.0075\n",
            "Epoch 173/200\n",
            "13/13 [==============================] - 0s 14ms/step - loss: 0.0073 - val_loss: 0.0075\n",
            "Epoch 174/200\n",
            "13/13 [==============================] - 0s 16ms/step - loss: 0.0073 - val_loss: 0.0074\n",
            "Epoch 175/200\n",
            "13/13 [==============================] - 0s 11ms/step - loss: 0.0073 - val_loss: 0.0074\n",
            "Epoch 176/200\n",
            "13/13 [==============================] - 0s 12ms/step - loss: 0.0073 - val_loss: 0.0074\n",
            "Epoch 177/200\n",
            "13/13 [==============================] - 0s 11ms/step - loss: 0.0073 - val_loss: 0.0074\n",
            "Epoch 178/200\n",
            "13/13 [==============================] - 0s 10ms/step - loss: 0.0073 - val_loss: 0.0074\n",
            "Epoch 179/200\n",
            "13/13 [==============================] - 0s 13ms/step - loss: 0.0073 - val_loss: 0.0074\n",
            "Epoch 180/200\n",
            "13/13 [==============================] - 0s 10ms/step - loss: 0.0073 - val_loss: 0.0074\n",
            "Epoch 181/200\n",
            "13/13 [==============================] - 0s 19ms/step - loss: 0.0073 - val_loss: 0.0074\n",
            "Epoch 182/200\n",
            "13/13 [==============================] - 0s 8ms/step - loss: 0.0072 - val_loss: 0.0074\n",
            "Epoch 183/200\n",
            "13/13 [==============================] - 0s 7ms/step - loss: 0.0072 - val_loss: 0.0073\n",
            "Epoch 184/200\n",
            "13/13 [==============================] - 0s 7ms/step - loss: 0.0072 - val_loss: 0.0073\n",
            "Epoch 185/200\n",
            "13/13 [==============================] - 0s 6ms/step - loss: 0.0072 - val_loss: 0.0073\n",
            "Epoch 186/200\n",
            "13/13 [==============================] - 0s 7ms/step - loss: 0.0072 - val_loss: 0.0073\n",
            "Epoch 187/200\n",
            "13/13 [==============================] - 0s 6ms/step - loss: 0.0072 - val_loss: 0.0073\n",
            "Epoch 188/200\n",
            "13/13 [==============================] - 0s 5ms/step - loss: 0.0072 - val_loss: 0.0073\n",
            "Epoch 189/200\n",
            "13/13 [==============================] - 0s 6ms/step - loss: 0.0072 - val_loss: 0.0073\n",
            "Epoch 190/200\n",
            "13/13 [==============================] - 0s 5ms/step - loss: 0.0072 - val_loss: 0.0073\n",
            "Epoch 191/200\n",
            "13/13 [==============================] - 0s 6ms/step - loss: 0.0072 - val_loss: 0.0073\n",
            "Epoch 192/200\n",
            "13/13 [==============================] - 0s 6ms/step - loss: 0.0072 - val_loss: 0.0073\n",
            "Epoch 193/200\n",
            "13/13 [==============================] - 0s 5ms/step - loss: 0.0071 - val_loss: 0.0072\n",
            "Epoch 194/200\n",
            "13/13 [==============================] - 0s 6ms/step - loss: 0.0071 - val_loss: 0.0072\n",
            "Epoch 195/200\n",
            "13/13 [==============================] - 0s 5ms/step - loss: 0.0071 - val_loss: 0.0072\n",
            "Epoch 196/200\n",
            "13/13 [==============================] - 0s 6ms/step - loss: 0.0071 - val_loss: 0.0072\n",
            "Epoch 197/200\n",
            "13/13 [==============================] - 0s 6ms/step - loss: 0.0071 - val_loss: 0.0072\n",
            "Epoch 198/200\n",
            "13/13 [==============================] - 0s 5ms/step - loss: 0.0071 - val_loss: 0.0072\n",
            "Epoch 199/200\n",
            "13/13 [==============================] - 0s 8ms/step - loss: 0.0071 - val_loss: 0.0072\n",
            "Epoch 200/200\n",
            "13/13 [==============================] - 0s 7ms/step - loss: 0.0071 - val_loss: 0.0072\n"
          ]
        }
      ],
      "source": [
        "BATCH_SIZE = 1026\n",
        "EPOCHS = 200\n",
        "history = model.fit(train_transformed, train_transformed,\n",
        "                    verbose=1, epochs=EPOCHS, batch_size=BATCH_SIZE,\n",
        "                    validation_data=(test_transformed, test_transformed))"
      ]
    },
    {
      "cell_type": "code",
      "execution_count": null,
      "metadata": {
        "colab": {
          "base_uri": "https://localhost:8080/",
          "height": 447
        },
        "id": "zTcPqx0mF6sV",
        "outputId": "757de19b-cd17-4f91-995b-5b7d510b56bc"
      },
      "outputs": [
        {
          "output_type": "execute_result",
          "data": {
            "text/plain": [
              "<matplotlib.legend.Legend at 0x7803a895a170>"
            ]
          },
          "metadata": {},
          "execution_count": 23
        },
        {
          "output_type": "display_data",
          "data": {
            "text/plain": [
              "<Figure size 640x480 with 1 Axes>"
            ],
            "image/png": "[encoded data removed]"
          },
          "metadata": {}
        }
      ],
      "source": [
        "#Visualise the history of training\"\n",
        "plt.plot(history.history[\"loss\"], label=\"Training Loss\")\n",
        "plt.plot(history.history[\"val_loss\"], label=\"Validation Loss\")\n",
        "plt.legend()\n"
      ]
    },
    {
      "cell_type": "markdown",
      "metadata": {
        "id": "xxkVofScF21N"
      },
      "source": [
        "## 4. Testing the Hypothesis:"
      ]
    },
    {
      "cell_type": "markdown",
      "source": [
        "First let's create the faulty dataset as we've done for test and training:\n",
        "1. Drop the fault label\n",
        "2. Normalise based on the pipeline before\n"
      ],
      "metadata": {
        "id": "yaU2O9QTzpCW"
      }
    },
    {
      "cell_type": "code",
      "execution_count": null,
      "metadata": {
        "id": "7kGMxs5GALI2"
      },
      "outputs": [],
      "source": [
        "fault1_dataset = dataset[dataset['Fault']==1] #Unhealthy Dataset\n",
        "\n",
        "fault1_dataset= fault1_dataset.drop(\"Fault\", axis=1)\n",
        "fault_type1= fault1_dataset.values\n",
        "faulty_transformeddata= pipeline.transform(fault_type1)"
      ]
    },
    {
      "cell_type": "markdown",
      "source": [
        "Calculate the mean absolute error between the reconstructions and real faulty data. We will then compare it to the mean absolute error for training and testing. The error should be atleast 50% higher than that of the healthy data."
      ],
      "metadata": {
        "id": "9xLHKXzIz37W"
      }
    },
    {
      "cell_type": "code",
      "execution_count": null,
      "metadata": {
        "colab": {
          "base_uri": "https://localhost:8080/"
        },
        "id": "0usTHAITu6ou",
        "outputId": "e376b096-b09f-45b3-c831-ba1fee56c3eb"
      },
      "outputs": [
        {
          "output_type": "stream",
          "name": "stdout",
          "text": [
            "344/344 [==============================] - 1s 2ms/step\n"
          ]
        }
      ],
      "source": [
        "\n",
        "reconstruction_faulty = model.predict(faulty_transformeddata)\n",
        "reconstruction_loss_anomalous =  np.mean(np.abs(faulty_transformeddata - reconstruction_faulty), axis=1)\n"
      ]
    },
    {
      "cell_type": "code",
      "execution_count": null,
      "metadata": {
        "colab": {
          "base_uri": "https://localhost:8080/"
        },
        "id": "t1xs_Z5hX38A",
        "outputId": "8e51092c-4897-483e-e2ce-333996b32254"
      },
      "outputs": [
        {
          "output_type": "stream",
          "name": "stdout",
          "text": [
            "400/400 [==============================] - 1s 2ms/step\n"
          ]
        }
      ],
      "source": [
        "reconstructions = model.predict(train_transformed)\n",
        "reconstruction_errors_normal_train = np.mean(np.abs(train_transformed - reconstructions), axis=1)\n"
      ]
    },
    {
      "cell_type": "code",
      "execution_count": null,
      "metadata": {
        "colab": {
          "base_uri": "https://localhost:8080/"
        },
        "id": "wUk7GkBSsiO9",
        "outputId": "2b2715f2-a975-48ce-ea44-b563b83c4959"
      },
      "outputs": [
        {
          "output_type": "stream",
          "name": "stdout",
          "text": [
            "100/100 [==============================] - 0s 1ms/step\n"
          ]
        }
      ],
      "source": [
        "\n",
        "reconstructions = model.predict(test_transformed)\n",
        "reconstruction_errors_normal_test = np.mean(np.abs(test_transformed - reconstructions), axis=1)\n",
        "\n",
        "\n"
      ]
    },
    {
      "cell_type": "code",
      "execution_count": null,
      "metadata": {
        "colab": {
          "base_uri": "https://localhost:8080/"
        },
        "id": "JXP5sqcgvzDi",
        "outputId": "e4b2d0ea-7d21-4d43-f92d-4e1027430d7b"
      },
      "outputs": [
        {
          "output_type": "stream",
          "name": "stdout",
          "text": [
            "Average Reconstruction Loss for test Data: 0.055679310308828465\n",
            "Average Reconstruction Loss for train Data: 0.055328177157127116\n",
            "Average Reconstruction Loss for Anomalous Data: 0.12927654937507563\n"
          ]
        }
      ],
      "source": [
        "\n",
        "\n",
        "print(f\"Average Reconstruction Loss for test Data: {np.mean(reconstruction_errors_normal_test)}\")\n",
        "print(f\"Average Reconstruction Loss for train Data: {np.mean(reconstruction_errors_normal_train)}\")\n",
        "print(f\"Average Reconstruction Loss for Anomalous Data: {np.mean(reconstruction_loss_anomalous)}\")\n"
      ]
    },
    {
      "cell_type": "markdown",
      "source": [
        "### 5. Save the Model"
      ],
      "metadata": {
        "id": "M_zN89_l_b47"
      }
    },
    {
      "cell_type": "code",
      "execution_count": null,
      "metadata": {
        "id": "B3ZbVhq9_owu",
        "colab": {
          "base_uri": "https://localhost:8080/"
        },
        "outputId": "ac4e1d69-3033-45f2-a76a-7c07fb827c3a"
      },
      "outputs": [
        {
          "output_type": "stream",
          "name": "stderr",
          "text": [
            "/usr/local/lib/python3.10/dist-packages/keras/src/engine/training.py:3103: UserWarning: You are saving your model as an HDF5 file via `model.save()`. This file format is considered legacy. We recommend using instead the native Keras format, e.g. `model.save('my_model.keras')`.\n",
            "  saving_api.save_model(\n"
          ]
        }
      ],
      "source": [
        "model.save(\"autoencoder.h5\")"
      ]
    }
  ],
  "metadata": {
    "accelerator": "GPU",
    "colab": {
      "gpuType": "T4",
      "provenance": [],
      "include_colab_link": true
    },
    "kernelspec": {
      "display_name": "Python 3",
      "name": "python3"
    },
    "language_info": {
      "name": "python"
    }
  },
  "nbformat": 4,
  "nbformat_minor": 0
}